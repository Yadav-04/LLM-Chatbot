{
 "cells": [
  {
   "cell_type": "code",
   "execution_count": 22,
   "metadata": {},
   "outputs": [],
   "source": [
    "from langchain_community.document_loaders import TextLoader\n",
    "import textwrap\n",
    "import os\n",
    "os.environ[\"HUGGINGFACEHUB_API_TOKEN\"] = \"YOUR_TOKEN\""
   ]
  },
  {
   "cell_type": "code",
   "execution_count": 8,
   "metadata": {},
   "outputs": [
    {
     "name": "stdout",
     "output_type": "stream",
     "text": [
      "[Document(page_content='Coimbatore, often referred to as the \"Manchester of South India,\" is a bustling city located in the state of Tamil Nadu. Nestled at the foothills of the Western Ghats, Coimbatore is renowned for its vibrant culture, rich history, and significant contributions to the region\\'s industrial and educational sectors. With a population of over two million, it stands as one of the largest cities in the state, serving as a major hub for trade, commerce, and manufacturing activities.\\n\\nThe city\\'s economy thrives on a diverse range of industries, including textiles, engineering, information technology, and manufacturing. Its reputation as a textile hub dates back centuries, with Coimbatore being a prominent center for cotton production and textile manufacturing. Additionally, the city is home to numerous engineering firms, automobile manufacturers, and IT companies, contributing significantly to India\\'s economic growth.\\n\\nBeyond its industrial prowess, Coimbatore boasts a rich cultural heritage and vibrant traditions. The city is dotted with ancient temples, historic landmarks, and architectural marvels, reflecting its deep-rooted history and religious significance. Temples such as the Marudamalai Murugan Temple and the Perur Pateeswarar Temple draw devotees and tourists alike, offering glimpses into the city\\'s spiritual essence.\\n\\nFurthermore, Coimbatore\\'s picturesque landscape and pleasant climate make it a popular tourist destination. Surrounded by lush greenery and nestled amidst the Nilgiri Biosphere Reserve, the city serves as a gateway to several scenic hill stations and natural attractions. Places like Ooty, Coonoor, and Valparai offer serene retreats for nature lovers and adventure enthusiasts, adding to Coimbatore\\'s allure as a destination that seamlessly blends urban sophistication with natural beauty.', metadata={'source': 'database.txt'})]\n"
     ]
    }
   ],
   "source": [
    "loader = TextLoader(\"database.txt\")\n",
    "document = loader.load()\n",
    "print(document)"
   ]
  },
  {
   "cell_type": "code",
   "execution_count": 9,
   "metadata": {},
   "outputs": [
    {
     "name": "stdout",
     "output_type": "stream",
     "text": [
      "page_content='Coimbatore, often referred to as the \"Manchester of South India,\" is a bustling city located in\n",
      "the state of Tamil Nadu. Nestled at the foothills of the Western Ghats, Coimbatore is renowned for its vibrant\n",
      "culture, rich history, and significant contributions to the region\\'s industrial and educational sectors. With\n",
      "a population of over two million, it stands as one of the largest cities in the state, serving as a major hub\n",
      "for trade, commerce, and manufacturing activities.\\n\\nThe city\\'s economy thrives on a diverse range of\n",
      "industries, including textiles, engineering, information technology, and manufacturing. Its reputation as a\n",
      "textile hub dates back centuries, with Coimbatore being a prominent center for cotton production and textile\n",
      "manufacturing. Additionally, the city is home to numerous engineering firms, automobile manufacturers, and IT\n",
      "companies, contributing significantly to India\\'s economic growth.\\n\\nBeyond its industrial prowess,\n",
      "Coimbatore boasts a rich cultural heritage and vibrant traditions. The city is dotted with ancient temples,\n",
      "historic landmarks, and architectural marvels, reflecting its deep-rooted history and religious significance.\n",
      "Temples such as the Marudamalai Murugan Temple and the Perur Pateeswarar Temple draw devotees and tourists\n",
      "alike, offering glimpses into the city\\'s spiritual essence.\\n\\nFurthermore, Coimbatore\\'s picturesque\n",
      "landscape and pleasant climate make it a popular tourist destination. Surrounded by lush greenery and nestled\n",
      "amidst the Nilgiri Biosphere Reserve, the city serves as a gateway to several scenic hill stations and natural\n",
      "attractions. Places like Ooty, Coonoor, and Valparai offer serene retreats for nature lovers and adventure\n",
      "enthusiasts, adding to Coimbatore\\'s allure as a destination that seamlessly blends urban sophistication with\n",
      "natural beauty.' metadata={'source': 'database.txt'}\n"
     ]
    }
   ],
   "source": [
    "def wrap_text_preserve_newlines(text,width=110):\n",
    "    lines = text.split(\"\\n\")\n",
    "    wrapped_lines = [textwrap.fill(line,width=width) for line in lines]\n",
    "    wrapped_text = \"\\n\".join(wrapped_lines)\n",
    "    return wrapped_text\n",
    "\n",
    "print(wrap_text_preserve_newlines(str(document[0])))"
   ]
  },
  {
   "cell_type": "code",
   "execution_count": 12,
   "metadata": {},
   "outputs": [
    {
     "name": "stdout",
     "output_type": "stream",
     "text": [
      "[Document(page_content='Coimbatore, often referred to as the \"Manchester of South India,\" is a bustling city located in the state of Tamil Nadu. Nestled at the foothills of the Western Ghats, Coimbatore is renowned for its vibrant culture, rich history, and significant contributions to the region\\'s industrial and educational sectors. With a population of over two million, it stands as one of the largest cities in the state, serving as a major hub for trade, commerce, and manufacturing activities.\\n\\nThe city\\'s economy thrives on a diverse range of industries, including textiles, engineering, information technology, and manufacturing. Its reputation as a textile hub dates back centuries, with Coimbatore being a prominent center for cotton production and textile manufacturing. Additionally, the city is home to numerous engineering firms, automobile manufacturers, and IT companies, contributing significantly to India\\'s economic growth.', metadata={'source': 'database.txt'}), Document(page_content=\"Beyond its industrial prowess, Coimbatore boasts a rich cultural heritage and vibrant traditions. The city is dotted with ancient temples, historic landmarks, and architectural marvels, reflecting its deep-rooted history and religious significance. Temples such as the Marudamalai Murugan Temple and the Perur Pateeswarar Temple draw devotees and tourists alike, offering glimpses into the city's spiritual essence.\\n\\nFurthermore, Coimbatore's picturesque landscape and pleasant climate make it a popular tourist destination. Surrounded by lush greenery and nestled amidst the Nilgiri Biosphere Reserve, the city serves as a gateway to several scenic hill stations and natural attractions. Places like Ooty, Coonoor, and Valparai offer serene retreats for nature lovers and adventure enthusiasts, adding to Coimbatore's allure as a destination that seamlessly blends urban sophistication with natural beauty.\", metadata={'source': 'database.txt'})]\n",
      "2\n"
     ]
    }
   ],
   "source": [
    "from langchain.text_splitter import CharacterTextSplitter\n",
    "text_splitter = CharacterTextSplitter(chunk_size = 1000, chunk_overlap=0)\n",
    "docs = text_splitter.split_documents(document)\n",
    "print(docs)\n",
    "print(len(docs))\n"
   ]
  },
  {
   "cell_type": "code",
   "execution_count": 18,
   "metadata": {},
   "outputs": [
    {
     "name": "stdout",
     "output_type": "stream",
     "text": [
      "Coimbatore, often referred to as the \"Manchester of South India,\" is a bustling city located in the state of\n",
      "Tamil Nadu. Nestled at the foothills of the Western Ghats, Coimbatore is renowned for its vibrant culture,\n",
      "rich history, and significant contributions to the region's industrial and educational sectors. With a\n",
      "population of over two million, it stands as one of the largest cities in the state, serving as a major hub\n",
      "for trade, commerce, and manufacturing activities.\n",
      "\n",
      "The city's economy thrives on a diverse range of industries, including textiles, engineering, information\n",
      "technology, and manufacturing. Its reputation as a textile hub dates back centuries, with Coimbatore being a\n",
      "prominent center for cotton production and textile manufacturing. Additionally, the city is home to numerous\n",
      "engineering firms, automobile manufacturers, and IT companies, contributing significantly to India's economic\n",
      "growth.\n"
     ]
    }
   ],
   "source": [
    "from langchain_community.embeddings import HuggingFaceEmbeddings\n",
    "from langchain_community.vectorstores import FAISS\n",
    "embeddings = HuggingFaceEmbeddings()\n",
    "db = FAISS.from_documents(docs,embeddings)\n",
    "\n",
    "query = \"What is Coimbatore called?\"\n",
    "doc = db.similarity_search(query)\n",
    "\n",
    "print(wrap_text_preserve_newlines(str(doc[0].page_content)))"
   ]
  },
  {
   "cell_type": "code",
   "execution_count": 25,
   "metadata": {},
   "outputs": [
    {
     "name": "stdout",
     "output_type": "stream",
     "text": [
      "\"Manchester of South India\n"
     ]
    }
   ],
   "source": [
    "from langchain.chains.question_answering import load_qa_chain\n",
    "from langchain import HuggingFaceHub\n",
    "\n",
    "llm = HuggingFaceHub(repo_id=\"google/flan-t5-xxl\", model_kwargs={\"temperature\":0.8, \"max_length\":512})\n",
    "chain = load_qa_chain(llm, chain_type=\"stuff\")\n",
    "\n",
    "queryText = \"What's Coimbatore's other name?\"\n",
    "docsResult = db.similarity_search(queryText)\n",
    "print(chain.run(input_documents = docsResult,question=queryText))"
   ]
  },
  {
   "cell_type": "code",
   "execution_count": 29,
   "metadata": {},
   "outputs": [
    {
     "name": "stdout",
     "output_type": "stream",
     "text": [
      "Coimbatore\n"
     ]
    }
   ],
   "source": [
    "import pyttsx3\n",
    "engine = pyttsx3.init()\n",
    "\n",
    "def text_to_speech(message):\n",
    "    engine.say(message)\n",
    "    print(message)\n",
    "    engine.runAndWait()\n",
    "\n",
    "queryText = \"Who is Yadav\"\n",
    "docsResult = db.similarity_search(queryText)\n",
    "text_to_speech(chain.run(input_documents = docsResult,question=queryText))"
   ]
  }
 ],
 "metadata": {
  "kernelspec": {
   "display_name": "llm-chatbot",
   "language": "python",
   "name": "python3"
  },
  "language_info": {
   "codemirror_mode": {
    "name": "ipython",
    "version": 3
   },
   "file_extension": ".py",
   "mimetype": "text/x-python",
   "name": "python",
   "nbconvert_exporter": "python",
   "pygments_lexer": "ipython3",
   "version": "3.10.7"
  }
 },
 "nbformat": 4,
 "nbformat_minor": 2
}
